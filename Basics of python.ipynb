{
  "nbformat": 4,
  "nbformat_minor": 0,
  "metadata": {
    "kernelspec": {
      "display_name": "Python 3",
      "language": "python",
      "name": "python3"
    },
    "language_info": {
      "codemirror_mode": {
        "name": "ipython",
        "version": 3
      },
      "file_extension": ".py",
      "mimetype": "text/x-python",
      "name": "python",
      "nbconvert_exporter": "python",
      "pygments_lexer": "ipython3",
      "version": "3.7.6"
    },
    "colab": {
      "name": "assign1.ipynb",
      "provenance": [],
      "include_colab_link": true
    }
  },
  "cells": [
    {
      "cell_type": "markdown",
      "metadata": {
        "id": "view-in-github",
        "colab_type": "text"
      },
      "source": [
        "<a href=\"https://colab.research.google.com/github/nitint1999/megavision/blob/master/Basics%20of%20python.ipynb\" target=\"_parent\"><img src=\"https://colab.research.google.com/assets/colab-badge.svg\" alt=\"Open In Colab\"/></a>"
      ]
    },
    {
      "cell_type": "markdown",
      "metadata": {
        "id": "N082fOE6xeIZ",
        "colab_type": "text"
      },
      "source": [
        "# Name: Nitin T \n",
        "#email:nitint1999@gmail.com\n",
        "#Day1 Assignment"
      ]
    },
    {
      "cell_type": "markdown",
      "metadata": {
        "id": "qFlwcuVQxeIc",
        "colab_type": "text"
      },
      "source": [
        "# List and default functions"
      ]
    },
    {
      "cell_type": "code",
      "metadata": {
        "id": "l0rMluJCxeId",
        "colab_type": "code",
        "colab": {}
      },
      "source": [
        "lst = (\"hi\" , 4 , 5, 8, 55)"
      ],
      "execution_count": 0,
      "outputs": []
    },
    {
      "cell_type": "code",
      "metadata": {
        "id": "YFj3OZ_fxeIi",
        "colab_type": "code",
        "colab": {},
        "outputId": "18cc997a-e7a2-493d-c349-8018aee4839b"
      },
      "source": [
        "lst"
      ],
      "execution_count": 0,
      "outputs": [
        {
          "output_type": "execute_result",
          "data": {
            "text/plain": [
              "('hi', 4, 5, 8, 55)"
            ]
          },
          "metadata": {
            "tags": []
          },
          "execution_count": 2
        }
      ]
    },
    {
      "cell_type": "code",
      "metadata": {
        "id": "Lx33oKQqxeIn",
        "colab_type": "code",
        "colab": {},
        "outputId": "21cdd0bc-4cf9-4c55-fd80-906d2e666a20"
      },
      "source": [
        "lst[1:]"
      ],
      "execution_count": 0,
      "outputs": [
        {
          "output_type": "execute_result",
          "data": {
            "text/plain": [
              "(4, 5, 8, 55)"
            ]
          },
          "metadata": {
            "tags": []
          },
          "execution_count": 3
        }
      ]
    },
    {
      "cell_type": "code",
      "metadata": {
        "id": "d2KgjasfxeIr",
        "colab_type": "code",
        "colab": {},
        "outputId": "4e7adf07-4537-4dfb-b869-bf83a7ff6135"
      },
      "source": [
        "lst[0]"
      ],
      "execution_count": 0,
      "outputs": [
        {
          "output_type": "execute_result",
          "data": {
            "text/plain": [
              "'hi'"
            ]
          },
          "metadata": {
            "tags": []
          },
          "execution_count": 4
        }
      ]
    },
    {
      "cell_type": "code",
      "metadata": {
        "id": "nFeWtbdUxeIw",
        "colab_type": "code",
        "colab": {},
        "outputId": "69bff174-8107-461e-e567-45122ac951fe"
      },
      "source": [
        "lst[-2]"
      ],
      "execution_count": 0,
      "outputs": [
        {
          "output_type": "execute_result",
          "data": {
            "text/plain": [
              "8"
            ]
          },
          "metadata": {
            "tags": []
          },
          "execution_count": 5
        }
      ]
    },
    {
      "cell_type": "code",
      "metadata": {
        "id": "UUUoRpa1xeI0",
        "colab_type": "code",
        "colab": {},
        "outputId": "7802600e-018e-4b9b-ac97-70d4a96ce5df"
      },
      "source": [
        "lst[0:-2]"
      ],
      "execution_count": 0,
      "outputs": [
        {
          "output_type": "execute_result",
          "data": {
            "text/plain": [
              "('hi', 4, 5)"
            ]
          },
          "metadata": {
            "tags": []
          },
          "execution_count": 6
        }
      ]
    },
    {
      "cell_type": "code",
      "metadata": {
        "id": "9Bcf3TyjxeI4",
        "colab_type": "code",
        "colab": {},
        "outputId": "1aeb12b6-2fe1-444c-931b-470dd922731a"
      },
      "source": [
        "lst.count(8)"
      ],
      "execution_count": 0,
      "outputs": [
        {
          "output_type": "execute_result",
          "data": {
            "text/plain": [
              "1"
            ]
          },
          "metadata": {
            "tags": []
          },
          "execution_count": 8
        }
      ]
    },
    {
      "cell_type": "code",
      "metadata": {
        "scrolled": true,
        "id": "mLOR63uRxeI9",
        "colab_type": "code",
        "colab": {},
        "outputId": "7d6594a9-bce6-4555-af25-408b90ecf575"
      },
      "source": [
        "lst.index(8)"
      ],
      "execution_count": 0,
      "outputs": [
        {
          "output_type": "execute_result",
          "data": {
            "text/plain": [
              "3"
            ]
          },
          "metadata": {
            "tags": []
          },
          "execution_count": 11
        }
      ]
    },
    {
      "cell_type": "code",
      "metadata": {
        "id": "dsR_HHHhxeJC",
        "colab_type": "code",
        "colab": {},
        "outputId": "d7fab1a7-197b-4657-ff90-3721be946f28"
      },
      "source": [
        "len(lst)"
      ],
      "execution_count": 0,
      "outputs": [
        {
          "output_type": "execute_result",
          "data": {
            "text/plain": [
              "5"
            ]
          },
          "metadata": {
            "tags": []
          },
          "execution_count": 12
        }
      ]
    },
    {
      "cell_type": "markdown",
      "metadata": {
        "id": "4Xsk8T1BxeJG",
        "colab_type": "text"
      },
      "source": [
        "# Dictionary and its default functions"
      ]
    },
    {
      "cell_type": "code",
      "metadata": {
        "id": "WkVftlgvxeJH",
        "colab_type": "code",
        "colab": {}
      },
      "source": [
        "dit = {\"house name\" : \"Anshu\",\n",
        "       \"my family has\" : 7,\n",
        "       \"Where is it\" : \"Blr\"}"
      ],
      "execution_count": 0,
      "outputs": []
    },
    {
      "cell_type": "code",
      "metadata": {
        "id": "yZXtV3asxeJK",
        "colab_type": "code",
        "colab": {},
        "outputId": "f34a751b-73ec-48c0-f02e-38dbc6885027"
      },
      "source": [
        "dit.get(\"house name\")"
      ],
      "execution_count": 0,
      "outputs": [
        {
          "output_type": "execute_result",
          "data": {
            "text/plain": [
              "'Anshu'"
            ]
          },
          "metadata": {
            "tags": []
          },
          "execution_count": 35
        }
      ]
    },
    {
      "cell_type": "code",
      "metadata": {
        "id": "Lx4jIx2oxeJQ",
        "colab_type": "code",
        "colab": {},
        "outputId": "a7e92425-3ed8-4999-e1b6-2eb94050a160"
      },
      "source": [
        "dit.get(\"my family has\")"
      ],
      "execution_count": 0,
      "outputs": [
        {
          "output_type": "execute_result",
          "data": {
            "text/plain": [
              "7"
            ]
          },
          "metadata": {
            "tags": []
          },
          "execution_count": 36
        }
      ]
    },
    {
      "cell_type": "code",
      "metadata": {
        "id": "6QBOkZdDxeJU",
        "colab_type": "code",
        "colab": {},
        "outputId": "2f3f5181-493d-4ec1-8d7b-f5a399f09b81"
      },
      "source": [
        "dit.get(\"Where is it\")"
      ],
      "execution_count": 0,
      "outputs": [
        {
          "output_type": "execute_result",
          "data": {
            "text/plain": [
              "'Blr'"
            ]
          },
          "metadata": {
            "tags": []
          },
          "execution_count": 37
        }
      ]
    },
    {
      "cell_type": "code",
      "metadata": {
        "id": "4bWECZDDxeJY",
        "colab_type": "code",
        "colab": {},
        "outputId": "5ca3e241-3688-4fe8-8875-a9b28d13f21d"
      },
      "source": [
        "dit"
      ],
      "execution_count": 0,
      "outputs": [
        {
          "output_type": "execute_result",
          "data": {
            "text/plain": [
              "{'house name': 'Anshu', 'my family has': 7, 'Where is it': 'Blr'}"
            ]
          },
          "metadata": {
            "tags": []
          },
          "execution_count": 38
        }
      ]
    },
    {
      "cell_type": "code",
      "metadata": {
        "id": "orhwkjTJxeJc",
        "colab_type": "code",
        "colab": {},
        "outputId": "fcb869fe-e528-4042-be61-978ead57d74c"
      },
      "source": [
        "dit.values()"
      ],
      "execution_count": 0,
      "outputs": [
        {
          "output_type": "execute_result",
          "data": {
            "text/plain": [
              "dict_values(['Anshu', 7, 'Blr'])"
            ]
          },
          "metadata": {
            "tags": []
          },
          "execution_count": 39
        }
      ]
    },
    {
      "cell_type": "code",
      "metadata": {
        "id": "yOla_suxxeJf",
        "colab_type": "code",
        "colab": {}
      },
      "source": [
        "dit1 = {\"house name\" : \"sweet\",\n",
        "       \"my family has\" : 5,\n",
        "       \"Where is it\" : \"Hyd\"}"
      ],
      "execution_count": 0,
      "outputs": []
    },
    {
      "cell_type": "code",
      "metadata": {
        "id": "QJL-wfSuxeJk",
        "colab_type": "code",
        "colab": {},
        "outputId": "19ad1d2d-6c3f-4e99-edba-9cbcf80eac89"
      },
      "source": [
        "dit1"
      ],
      "execution_count": 0,
      "outputs": [
        {
          "output_type": "execute_result",
          "data": {
            "text/plain": [
              "{'house name': 'sweet', 'my family has': 5, 'Where is it': 'Hyd'}"
            ]
          },
          "metadata": {
            "tags": []
          },
          "execution_count": 41
        }
      ]
    },
    {
      "cell_type": "code",
      "metadata": {
        "id": "M8gfJ3XvxeJo",
        "colab_type": "code",
        "colab": {},
        "outputId": "f9f19988-8554-42dd-e9a0-b0df0802bd56"
      },
      "source": [
        "dit"
      ],
      "execution_count": 0,
      "outputs": [
        {
          "output_type": "execute_result",
          "data": {
            "text/plain": [
              "{'house name': 'Anshu', 'my family has': 7, 'Where is it': 'Blr'}"
            ]
          },
          "metadata": {
            "tags": []
          },
          "execution_count": 42
        }
      ]
    },
    {
      "cell_type": "code",
      "metadata": {
        "id": "uKYpLfXRxeJs",
        "colab_type": "code",
        "colab": {},
        "outputId": "28186771-ef7d-4e8e-d6db-6bdede14a873"
      },
      "source": [
        "dit.copy()"
      ],
      "execution_count": 0,
      "outputs": [
        {
          "output_type": "execute_result",
          "data": {
            "text/plain": [
              "{'house name': 'Anshu', 'my family has': 7, 'Where is it': 'Blr'}"
            ]
          },
          "metadata": {
            "tags": []
          },
          "execution_count": 43
        }
      ]
    },
    {
      "cell_type": "code",
      "metadata": {
        "id": "u4G5Fmo7xeJv",
        "colab_type": "code",
        "colab": {}
      },
      "source": [
        "dit1.clear()"
      ],
      "execution_count": 0,
      "outputs": []
    },
    {
      "cell_type": "code",
      "metadata": {
        "id": "R3vKCMNMxeJy",
        "colab_type": "code",
        "colab": {},
        "outputId": "568f85e9-5e83-43c4-cd80-21ac62c2d9c6"
      },
      "source": [
        "dit1"
      ],
      "execution_count": 0,
      "outputs": [
        {
          "output_type": "execute_result",
          "data": {
            "text/plain": [
              "{}"
            ]
          },
          "metadata": {
            "tags": []
          },
          "execution_count": 46
        }
      ]
    },
    {
      "cell_type": "code",
      "metadata": {
        "id": "H4dRNr3sxeJ6",
        "colab_type": "code",
        "colab": {}
      },
      "source": [
        "newcpydit= dit.copy()"
      ],
      "execution_count": 0,
      "outputs": []
    },
    {
      "cell_type": "code",
      "metadata": {
        "id": "xRIPj7mZxeJ9",
        "colab_type": "code",
        "colab": {},
        "outputId": "c2c7b56b-3ae0-4e51-ffd1-ad5b509ceff5"
      },
      "source": [
        "newcpydit"
      ],
      "execution_count": 0,
      "outputs": [
        {
          "output_type": "execute_result",
          "data": {
            "text/plain": [
              "{'house name': 'Anshu', 'my family has': 7, 'Where is it': 'Blr'}"
            ]
          },
          "metadata": {
            "tags": []
          },
          "execution_count": 48
        }
      ]
    },
    {
      "cell_type": "code",
      "metadata": {
        "id": "yvchEOV0xeKB",
        "colab_type": "code",
        "colab": {},
        "outputId": "5b6428a2-a10c-4f17-aabb-a3f54b5b6566"
      },
      "source": [
        "dit.pop(\"house name\")"
      ],
      "execution_count": 0,
      "outputs": [
        {
          "output_type": "execute_result",
          "data": {
            "text/plain": [
              "'Anshu'"
            ]
          },
          "metadata": {
            "tags": []
          },
          "execution_count": 51
        }
      ]
    },
    {
      "cell_type": "code",
      "metadata": {
        "id": "XYr_cphexeKE",
        "colab_type": "code",
        "colab": {},
        "outputId": "0407068b-7dd9-4c34-9899-3935ea3b1c61"
      },
      "source": [
        "dit.get(\"Where is it\")"
      ],
      "execution_count": 0,
      "outputs": [
        {
          "output_type": "execute_result",
          "data": {
            "text/plain": [
              "'Blr'"
            ]
          },
          "metadata": {
            "tags": []
          },
          "execution_count": 52
        }
      ]
    },
    {
      "cell_type": "code",
      "metadata": {
        "id": "SpZdjry_xeKK",
        "colab_type": "code",
        "colab": {},
        "outputId": "53f0caab-f3e9-4855-a5e8-3f4c4a9ddcb4"
      },
      "source": [
        "dit.items()"
      ],
      "execution_count": 0,
      "outputs": [
        {
          "output_type": "execute_result",
          "data": {
            "text/plain": [
              "dict_items([('my family has', 7), ('Where is it', 'Blr')])"
            ]
          },
          "metadata": {
            "tags": []
          },
          "execution_count": 53
        }
      ]
    },
    {
      "cell_type": "code",
      "metadata": {
        "id": "ETDVb03WxeKN",
        "colab_type": "code",
        "colab": {},
        "outputId": "0d450be2-c6c6-4200-eabd-03a45c113c27"
      },
      "source": [
        "dit.popitem()"
      ],
      "execution_count": 0,
      "outputs": [
        {
          "output_type": "execute_result",
          "data": {
            "text/plain": [
              "('Where is it', 'Blr')"
            ]
          },
          "metadata": {
            "tags": []
          },
          "execution_count": 56
        }
      ]
    },
    {
      "cell_type": "code",
      "metadata": {
        "id": "rBXY-tkOxeKR",
        "colab_type": "code",
        "colab": {},
        "outputId": "949fd405-e91a-499a-e087-82c3590310a5"
      },
      "source": [
        "dit.keys()"
      ],
      "execution_count": 0,
      "outputs": [
        {
          "output_type": "execute_result",
          "data": {
            "text/plain": [
              "dict_keys(['my family has'])"
            ]
          },
          "metadata": {
            "tags": []
          },
          "execution_count": 57
        }
      ]
    },
    {
      "cell_type": "code",
      "metadata": {
        "id": "nEUtapAYxeKU",
        "colab_type": "code",
        "colab": {}
      },
      "source": [
        "dit.setdefault(\"Where is it\")"
      ],
      "execution_count": 0,
      "outputs": []
    },
    {
      "cell_type": "code",
      "metadata": {
        "id": "laU3K3guxeKY",
        "colab_type": "code",
        "colab": {},
        "outputId": "59086847-a421-4fd7-9df4-5152b7d06347"
      },
      "source": [
        "dit"
      ],
      "execution_count": 0,
      "outputs": [
        {
          "output_type": "execute_result",
          "data": {
            "text/plain": [
              "{'my family has': 7, 'Where is it': None}"
            ]
          },
          "metadata": {
            "tags": []
          },
          "execution_count": 60
        }
      ]
    },
    {
      "cell_type": "code",
      "metadata": {
        "id": "fz0guNYgxeKb",
        "colab_type": "code",
        "colab": {}
      },
      "source": [
        "dit.update({\"Where is it\": \"Hyd\"})"
      ],
      "execution_count": 0,
      "outputs": []
    },
    {
      "cell_type": "code",
      "metadata": {
        "id": "I4fcxMT5xeKf",
        "colab_type": "code",
        "colab": {},
        "outputId": "6c3e1a34-e830-469d-b73f-1f6139016ff9"
      },
      "source": [
        "dit.keys()"
      ],
      "execution_count": 0,
      "outputs": [
        {
          "output_type": "execute_result",
          "data": {
            "text/plain": [
              "dict_keys(['my family has', 'Where is it'])"
            ]
          },
          "metadata": {
            "tags": []
          },
          "execution_count": 63
        }
      ]
    },
    {
      "cell_type": "code",
      "metadata": {
        "id": "1upDGmqNxeKi",
        "colab_type": "code",
        "colab": {},
        "outputId": "b02fe338-727e-4d72-a481-637f0fc47af3"
      },
      "source": [
        "dit"
      ],
      "execution_count": 0,
      "outputs": [
        {
          "output_type": "execute_result",
          "data": {
            "text/plain": [
              "{'my family has': 7, 'Where is it': 'Hyd'}"
            ]
          },
          "metadata": {
            "tags": []
          },
          "execution_count": 64
        }
      ]
    },
    {
      "cell_type": "markdown",
      "metadata": {
        "id": "NZcovCj-xeKl",
        "colab_type": "text"
      },
      "source": [
        "# Sets and its default functions"
      ]
    },
    {
      "cell_type": "code",
      "metadata": {
        "id": "co-Y8eknxeKm",
        "colab_type": "code",
        "colab": {}
      },
      "source": [
        "sets = {1,55,44,22,666,\"nit\",\"hi\",\"that\",}"
      ],
      "execution_count": 0,
      "outputs": []
    },
    {
      "cell_type": "code",
      "metadata": {
        "id": "DdJQSTkUxeKq",
        "colab_type": "code",
        "colab": {},
        "outputId": "961104a5-f2fa-4459-adcf-8ae4f986e3f4"
      },
      "source": [
        "sets"
      ],
      "execution_count": 0,
      "outputs": [
        {
          "output_type": "execute_result",
          "data": {
            "text/plain": [
              "{1, 22, 44, 55, 666, 'hi', 'nit', 'that'}"
            ]
          },
          "metadata": {
            "tags": []
          },
          "execution_count": 87
        }
      ]
    },
    {
      "cell_type": "code",
      "metadata": {
        "id": "1CE-JmO6xeKu",
        "colab_type": "code",
        "colab": {}
      },
      "source": [
        "sets1 = { 1,3,7,\"Hello\",\"nit\"}"
      ],
      "execution_count": 0,
      "outputs": []
    },
    {
      "cell_type": "code",
      "metadata": {
        "id": "3GVw8DLgxeKz",
        "colab_type": "code",
        "colab": {},
        "outputId": "92b747e3-16ac-4a86-fb0a-3f9cbc3e00cc"
      },
      "source": [
        "sets1"
      ],
      "execution_count": 0,
      "outputs": [
        {
          "output_type": "execute_result",
          "data": {
            "text/plain": [
              "{1, 3, 7, 'Hello', 'nit'}"
            ]
          },
          "metadata": {
            "tags": []
          },
          "execution_count": 114
        }
      ]
    },
    {
      "cell_type": "code",
      "metadata": {
        "id": "fGoprsFhxeK3",
        "colab_type": "code",
        "colab": {},
        "outputId": "ff492f37-ead1-413a-b773-ddaa29986dd2"
      },
      "source": [
        "sets.copy()"
      ],
      "execution_count": 0,
      "outputs": [
        {
          "output_type": "execute_result",
          "data": {
            "text/plain": [
              "{22, 44, 55, 666, 'hi', 'that'}"
            ]
          },
          "metadata": {
            "tags": []
          },
          "execution_count": 115
        }
      ]
    },
    {
      "cell_type": "code",
      "metadata": {
        "id": "_K3pHaZgxeK6",
        "colab_type": "code",
        "colab": {},
        "outputId": "e467df17-04b8-4f58-d9ba-83cb29db9b9d"
      },
      "source": [
        "sets.difference(sets1)"
      ],
      "execution_count": 0,
      "outputs": [
        {
          "output_type": "execute_result",
          "data": {
            "text/plain": [
              "{22, 44, 55, 666, 'hi', 'that'}"
            ]
          },
          "metadata": {
            "tags": []
          },
          "execution_count": 116
        }
      ]
    },
    {
      "cell_type": "code",
      "metadata": {
        "id": "LIkK9bOYxeK_",
        "colab_type": "code",
        "colab": {}
      },
      "source": [
        "set3 = sets.difference_update(sets1)"
      ],
      "execution_count": 0,
      "outputs": []
    },
    {
      "cell_type": "code",
      "metadata": {
        "id": "2CZPtzZnxeLC",
        "colab_type": "code",
        "colab": {},
        "outputId": "66caf2bb-dc4e-4c34-c7d2-a5415fb91067"
      },
      "source": [
        "sets"
      ],
      "execution_count": 0,
      "outputs": [
        {
          "output_type": "execute_result",
          "data": {
            "text/plain": [
              "{22, 44, 55, 666, 'hi', 'that'}"
            ]
          },
          "metadata": {
            "tags": []
          },
          "execution_count": 123
        }
      ]
    },
    {
      "cell_type": "code",
      "metadata": {
        "id": "QMh89J2TxeLI",
        "colab_type": "code",
        "colab": {},
        "outputId": "3d0bdbba-7272-47a0-e258-0851987c3673"
      },
      "source": [
        "print(set3)"
      ],
      "execution_count": 0,
      "outputs": [
        {
          "output_type": "stream",
          "text": [
            "None\n"
          ],
          "name": "stdout"
        }
      ]
    },
    {
      "cell_type": "code",
      "metadata": {
        "id": "TFcNIUX-xeLM",
        "colab_type": "code",
        "colab": {},
        "outputId": "95c1634e-c2c3-4497-e96a-9e3c20716a4a"
      },
      "source": [
        "sets1"
      ],
      "execution_count": 0,
      "outputs": [
        {
          "output_type": "execute_result",
          "data": {
            "text/plain": [
              "{1, 3, 7, 'Hello', 'nit'}"
            ]
          },
          "metadata": {
            "tags": []
          },
          "execution_count": 144
        }
      ]
    },
    {
      "cell_type": "code",
      "metadata": {
        "id": "nNQmnE58xeLP",
        "colab_type": "code",
        "colab": {}
      },
      "source": [
        "sets = {1,55,44,22,666,\"nit\",\"hi\",\"that\",}"
      ],
      "execution_count": 0,
      "outputs": []
    },
    {
      "cell_type": "code",
      "metadata": {
        "id": "vr0YpOy4xeLT",
        "colab_type": "code",
        "colab": {}
      },
      "source": [
        "sets4 ={1,666,\"that\"}"
      ],
      "execution_count": 0,
      "outputs": []
    },
    {
      "cell_type": "code",
      "metadata": {
        "id": "Cq7k2AeYxeLX",
        "colab_type": "code",
        "colab": {}
      },
      "source": [
        "result=sets.intersection_update(sets1)"
      ],
      "execution_count": 0,
      "outputs": []
    },
    {
      "cell_type": "code",
      "metadata": {
        "id": "a9_TPBJRxeLf",
        "colab_type": "code",
        "colab": {},
        "outputId": "e2ea0bc3-2c32-4de5-e1bb-24bce716c7bb"
      },
      "source": [
        "sets"
      ],
      "execution_count": 0,
      "outputs": [
        {
          "output_type": "execute_result",
          "data": {
            "text/plain": [
              "{1, 22, 44, 55, 666, 'hi', 'nit', 'that'}"
            ]
          },
          "metadata": {
            "tags": []
          },
          "execution_count": 162
        }
      ]
    },
    {
      "cell_type": "code",
      "metadata": {
        "id": "8TznYl4fxeLi",
        "colab_type": "code",
        "colab": {}
      },
      "source": [
        "result=sets.intersection_update(sets4,sets1)"
      ],
      "execution_count": 0,
      "outputs": []
    },
    {
      "cell_type": "code",
      "metadata": {
        "id": "VoGJjdsgxeLk",
        "colab_type": "code",
        "colab": {},
        "outputId": "8d323013-997b-4f7e-aadd-47daec64087c"
      },
      "source": [
        "print(result)"
      ],
      "execution_count": 0,
      "outputs": [
        {
          "output_type": "stream",
          "text": [
            "None\n"
          ],
          "name": "stdout"
        }
      ]
    },
    {
      "cell_type": "code",
      "metadata": {
        "id": "PjIfRBI3xeLn",
        "colab_type": "code",
        "colab": {},
        "outputId": "bc9262f3-7522-466c-a56a-9529f0f301c7"
      },
      "source": [
        "print(sets)"
      ],
      "execution_count": 0,
      "outputs": [
        {
          "output_type": "stream",
          "text": [
            "{1}\n"
          ],
          "name": "stdout"
        }
      ]
    },
    {
      "cell_type": "code",
      "metadata": {
        "id": "ckD215-KxeLq",
        "colab_type": "code",
        "colab": {}
      },
      "source": [
        "sets = {1,55,44,22,666,\"nit\",\"hi\",\"that\",}\n",
        "setsa ={1,666,\"that\"}"
      ],
      "execution_count": 0,
      "outputs": []
    },
    {
      "cell_type": "code",
      "metadata": {
        "id": "Dvf_K98jxeLw",
        "colab_type": "code",
        "colab": {},
        "outputId": "24fd5fc5-0c7a-4d1b-a1c8-1c5897833608"
      },
      "source": [
        "sets.isdisjoint(setsa)"
      ],
      "execution_count": 0,
      "outputs": [
        {
          "output_type": "execute_result",
          "data": {
            "text/plain": [
              "False"
            ]
          },
          "metadata": {
            "tags": []
          },
          "execution_count": 175
        }
      ]
    },
    {
      "cell_type": "code",
      "metadata": {
        "id": "0Z2M4MWYxeL2",
        "colab_type": "code",
        "colab": {},
        "outputId": "39e78588-30bd-4f66-a148-7bfcb2faefaa"
      },
      "source": [
        "sets.issubset(setsa)"
      ],
      "execution_count": 0,
      "outputs": [
        {
          "output_type": "execute_result",
          "data": {
            "text/plain": [
              "False"
            ]
          },
          "metadata": {
            "tags": []
          },
          "execution_count": 176
        }
      ]
    },
    {
      "cell_type": "code",
      "metadata": {
        "id": "ap0PpVJqxeL6",
        "colab_type": "code",
        "colab": {},
        "outputId": "d66f8515-0f7a-4403-b1b1-acac8c7bf56e"
      },
      "source": [
        "sets.issuperset(setsa)"
      ],
      "execution_count": 0,
      "outputs": [
        {
          "output_type": "execute_result",
          "data": {
            "text/plain": [
              "True"
            ]
          },
          "metadata": {
            "tags": []
          },
          "execution_count": 178
        }
      ]
    },
    {
      "cell_type": "code",
      "metadata": {
        "id": "h3a4JHZGxeL9",
        "colab_type": "code",
        "colab": {},
        "outputId": "9318ee82-d0ff-4940-d2e5-105bbcafaf9e"
      },
      "source": [
        "sets.pop()"
      ],
      "execution_count": 0,
      "outputs": [
        {
          "output_type": "execute_result",
          "data": {
            "text/plain": [
              "1"
            ]
          },
          "metadata": {
            "tags": []
          },
          "execution_count": 179
        }
      ]
    },
    {
      "cell_type": "code",
      "metadata": {
        "id": "8Ej4l1AcxeMD",
        "colab_type": "code",
        "colab": {}
      },
      "source": [
        "sets.remove(\"hi\")"
      ],
      "execution_count": 0,
      "outputs": []
    },
    {
      "cell_type": "code",
      "metadata": {
        "id": "uIcunE25xeMG",
        "colab_type": "code",
        "colab": {},
        "outputId": "e04773d3-fca6-4b17-bbf2-27903e615a08"
      },
      "source": [
        "sets"
      ],
      "execution_count": 0,
      "outputs": [
        {
          "output_type": "execute_result",
          "data": {
            "text/plain": [
              "{22, 44, 55, 666, 'nit', 'that'}"
            ]
          },
          "metadata": {
            "tags": []
          },
          "execution_count": 181
        }
      ]
    },
    {
      "cell_type": "code",
      "metadata": {
        "id": "jRBr00-7xeMI",
        "colab_type": "code",
        "colab": {},
        "outputId": "e425a47f-c021-4710-b61d-3e7878151a7e"
      },
      "source": [
        "sets.symmetric_difference(setsa)"
      ],
      "execution_count": 0,
      "outputs": [
        {
          "output_type": "execute_result",
          "data": {
            "text/plain": [
              "{1, 22, 44, 55, 'nit'}"
            ]
          },
          "metadata": {
            "tags": []
          },
          "execution_count": 182
        }
      ]
    },
    {
      "cell_type": "code",
      "metadata": {
        "id": "31_VdgkuxeMM",
        "colab_type": "code",
        "colab": {}
      },
      "source": [
        "sets.symmetric_difference_update(sets4)"
      ],
      "execution_count": 0,
      "outputs": []
    },
    {
      "cell_type": "code",
      "metadata": {
        "id": "waGbFYU9xeMQ",
        "colab_type": "code",
        "colab": {},
        "outputId": "390968b5-bfbf-42df-bd44-777908591955"
      },
      "source": [
        "print(sets)"
      ],
      "execution_count": 0,
      "outputs": [
        {
          "output_type": "stream",
          "text": [
            "{1, 'that', 44, 'nit', 22, 55, 666}\n"
          ],
          "name": "stdout"
        }
      ]
    },
    {
      "cell_type": "code",
      "metadata": {
        "id": "Dq-Oud5AxeMU",
        "colab_type": "code",
        "colab": {},
        "outputId": "a304a84d-8cef-4b0d-c2b0-f70abdf5cbd6"
      },
      "source": [
        "sets.union(setsa)"
      ],
      "execution_count": 0,
      "outputs": [
        {
          "output_type": "execute_result",
          "data": {
            "text/plain": [
              "{1, 22, 44, 55, 666, 'nit', 'that'}"
            ]
          },
          "metadata": {
            "tags": []
          },
          "execution_count": 190
        }
      ]
    },
    {
      "cell_type": "code",
      "metadata": {
        "id": "NFwTaMCHxeMX",
        "colab_type": "code",
        "colab": {}
      },
      "source": [
        "sets.update(setsa)"
      ],
      "execution_count": 0,
      "outputs": []
    },
    {
      "cell_type": "code",
      "metadata": {
        "id": "v0fifzSgxeMa",
        "colab_type": "code",
        "colab": {},
        "outputId": "1448b953-3458-44ef-c82e-a3aef3b61398"
      },
      "source": [
        "sets"
      ],
      "execution_count": 0,
      "outputs": [
        {
          "output_type": "execute_result",
          "data": {
            "text/plain": [
              "{1, 22, 44, 55, 666, 'nit', 'that'}"
            ]
          },
          "metadata": {
            "tags": []
          },
          "execution_count": 192
        }
      ]
    },
    {
      "cell_type": "code",
      "metadata": {
        "id": "ZAmrSx9-xeMc",
        "colab_type": "code",
        "colab": {},
        "outputId": "a9f63244-5e04-438b-8bd9-d46cb1c08f1b"
      },
      "source": [
        "setsa"
      ],
      "execution_count": 0,
      "outputs": [
        {
          "output_type": "execute_result",
          "data": {
            "text/plain": [
              "{1, 666, 'that'}"
            ]
          },
          "metadata": {
            "tags": []
          },
          "execution_count": 193
        }
      ]
    },
    {
      "cell_type": "markdown",
      "metadata": {
        "id": "oEnBNpe-xeMf",
        "colab_type": "text"
      },
      "source": [
        "# Tuples and defaults functions"
      ]
    },
    {
      "cell_type": "code",
      "metadata": {
        "id": "ni8o1Mj9xeMf",
        "colab_type": "code",
        "colab": {}
      },
      "source": [
        "tup = (\"I\", 21, 434, 21,\"like\")"
      ],
      "execution_count": 0,
      "outputs": []
    },
    {
      "cell_type": "code",
      "metadata": {
        "id": "USGQTkcqxeMh",
        "colab_type": "code",
        "colab": {},
        "outputId": "caa3d75c-8fd8-4d26-d7cd-55d663070dfa"
      },
      "source": [
        "tup.count(21)"
      ],
      "execution_count": 0,
      "outputs": [
        {
          "output_type": "execute_result",
          "data": {
            "text/plain": [
              "2"
            ]
          },
          "metadata": {
            "tags": []
          },
          "execution_count": 213
        }
      ]
    },
    {
      "cell_type": "code",
      "metadata": {
        "id": "WCF3zDvExeMj",
        "colab_type": "code",
        "colab": {},
        "outputId": "adf44c11-502c-4fe0-9a32-a949f2b9f297"
      },
      "source": [
        "tup.index(\"like\")"
      ],
      "execution_count": 0,
      "outputs": [
        {
          "output_type": "execute_result",
          "data": {
            "text/plain": [
              "4"
            ]
          },
          "metadata": {
            "tags": []
          },
          "execution_count": 214
        }
      ]
    },
    {
      "cell_type": "code",
      "metadata": {
        "id": "9GXtivjpxeMm",
        "colab_type": "code",
        "colab": {},
        "outputId": "35752921-9b3d-44df-909b-fa225433b22b"
      },
      "source": [
        "tup.index(\"I\")"
      ],
      "execution_count": 0,
      "outputs": [
        {
          "output_type": "execute_result",
          "data": {
            "text/plain": [
              "0"
            ]
          },
          "metadata": {
            "tags": []
          },
          "execution_count": 215
        }
      ]
    },
    {
      "cell_type": "markdown",
      "metadata": {
        "id": "ycojCs5XxeMo",
        "colab_type": "text"
      },
      "source": [
        "# String and its default functions"
      ]
    },
    {
      "cell_type": "code",
      "metadata": {
        "id": "fsJKoNx1xeMo",
        "colab_type": "code",
        "colab": {}
      },
      "source": [
        "string= \"lets upgrade is doing good job\"\n",
        "string1=\"All shd follow\""
      ],
      "execution_count": 0,
      "outputs": []
    },
    {
      "cell_type": "code",
      "metadata": {
        "id": "5JELrq0_xeMt",
        "colab_type": "code",
        "colab": {},
        "outputId": "b06b7165-7fe7-4257-a903-4347baaf8740"
      },
      "source": [
        "string.capitalize()"
      ],
      "execution_count": 0,
      "outputs": [
        {
          "output_type": "execute_result",
          "data": {
            "text/plain": [
              "'Lets upgrade is doing good job'"
            ]
          },
          "metadata": {
            "tags": []
          },
          "execution_count": 241
        }
      ]
    },
    {
      "cell_type": "code",
      "metadata": {
        "id": "6qJusQ16xeMw",
        "colab_type": "code",
        "colab": {},
        "outputId": "4aad4b59-6864-49ee-acc9-59949d065d31"
      },
      "source": [
        "string.casefold()"
      ],
      "execution_count": 0,
      "outputs": [
        {
          "output_type": "execute_result",
          "data": {
            "text/plain": [
              "'lets upgrade is doing good job'"
            ]
          },
          "metadata": {
            "tags": []
          },
          "execution_count": 242
        }
      ]
    },
    {
      "cell_type": "code",
      "metadata": {
        "id": "wckz8E7xxeMz",
        "colab_type": "code",
        "colab": {},
        "outputId": "1f02e619-427d-42b7-ce1d-a0e078b5dc5e"
      },
      "source": [
        "string.count(string)"
      ],
      "execution_count": 0,
      "outputs": [
        {
          "output_type": "execute_result",
          "data": {
            "text/plain": [
              "1"
            ]
          },
          "metadata": {
            "tags": []
          },
          "execution_count": 247
        }
      ]
    },
    {
      "cell_type": "code",
      "metadata": {
        "id": "lyRMAhlFxeM1",
        "colab_type": "code",
        "colab": {},
        "outputId": "ec710a90-aebf-4c38-f484-836c77fd74cf"
      },
      "source": [
        "string.endswith(\"e\")"
      ],
      "execution_count": 0,
      "outputs": [
        {
          "output_type": "execute_result",
          "data": {
            "text/plain": [
              "False"
            ]
          },
          "metadata": {
            "tags": []
          },
          "execution_count": 249
        }
      ]
    },
    {
      "cell_type": "code",
      "metadata": {
        "id": "rmPPXQRixeM8",
        "colab_type": "code",
        "colab": {},
        "outputId": "1a8f4a56-413f-4e6b-d3b1-12b6c6c49fda"
      },
      "source": [
        "string.expandtabs()"
      ],
      "execution_count": 0,
      "outputs": [
        {
          "output_type": "execute_result",
          "data": {
            "text/plain": [
              "'lets upgrade is doing good job'"
            ]
          },
          "metadata": {
            "tags": []
          },
          "execution_count": 250
        }
      ]
    },
    {
      "cell_type": "code",
      "metadata": {
        "id": "2060bLmQxeNA",
        "colab_type": "code",
        "colab": {},
        "outputId": "d0f6945b-a9f4-4a77-c983-7f568db9e519"
      },
      "source": [
        "string.find(\"o\")"
      ],
      "execution_count": 0,
      "outputs": [
        {
          "output_type": "execute_result",
          "data": {
            "text/plain": [
              "17"
            ]
          },
          "metadata": {
            "tags": []
          },
          "execution_count": 252
        }
      ]
    },
    {
      "cell_type": "code",
      "metadata": {
        "id": "URL6glKtxeND",
        "colab_type": "code",
        "colab": {},
        "outputId": "6c6f2cc2-51f6-4a4e-81fc-203b691efc1a"
      },
      "source": [
        "string.index(\"good job\")"
      ],
      "execution_count": 0,
      "outputs": [
        {
          "output_type": "execute_result",
          "data": {
            "text/plain": [
              "22"
            ]
          },
          "metadata": {
            "tags": []
          },
          "execution_count": 261
        }
      ]
    },
    {
      "cell_type": "code",
      "metadata": {
        "id": "wShl5OfoxeNF",
        "colab_type": "code",
        "colab": {},
        "outputId": "e271de69-7ce8-482b-a6bd-ae5f5ff3f10a"
      },
      "source": [
        "string.isalnum()"
      ],
      "execution_count": 0,
      "outputs": [
        {
          "output_type": "execute_result",
          "data": {
            "text/plain": [
              "False"
            ]
          },
          "metadata": {
            "tags": []
          },
          "execution_count": 264
        }
      ]
    },
    {
      "cell_type": "code",
      "metadata": {
        "id": "zbTxwrCYxeNJ",
        "colab_type": "code",
        "colab": {},
        "outputId": "1137fa0f-b3cf-42e4-d272-fb35323d8772"
      },
      "source": [
        "string.isalpha()"
      ],
      "execution_count": 0,
      "outputs": [
        {
          "output_type": "execute_result",
          "data": {
            "text/plain": [
              "False"
            ]
          },
          "metadata": {
            "tags": []
          },
          "execution_count": 266
        }
      ]
    },
    {
      "cell_type": "code",
      "metadata": {
        "id": "fXQ87agAxeNM",
        "colab_type": "code",
        "colab": {},
        "outputId": "b55b7a28-92d9-4513-9772-c4b496a025ce"
      },
      "source": [
        "string.isascii()"
      ],
      "execution_count": 0,
      "outputs": [
        {
          "output_type": "execute_result",
          "data": {
            "text/plain": [
              "True"
            ]
          },
          "metadata": {
            "tags": []
          },
          "execution_count": 267
        }
      ]
    },
    {
      "cell_type": "code",
      "metadata": {
        "id": "gxoDEJXpxeNO",
        "colab_type": "code",
        "colab": {},
        "outputId": "e2f86090-d3d2-47af-e4a2-02b1599f647b"
      },
      "source": [
        "string.isdecimal()"
      ],
      "execution_count": 0,
      "outputs": [
        {
          "output_type": "execute_result",
          "data": {
            "text/plain": [
              "False"
            ]
          },
          "metadata": {
            "tags": []
          },
          "execution_count": 268
        }
      ]
    },
    {
      "cell_type": "code",
      "metadata": {
        "id": "_DfkV6JfxeNQ",
        "colab_type": "code",
        "colab": {},
        "outputId": "9dff88e5-3f57-46ee-de9a-a89c13ec462f"
      },
      "source": [
        "string.isdigit()"
      ],
      "execution_count": 0,
      "outputs": [
        {
          "output_type": "execute_result",
          "data": {
            "text/plain": [
              "False"
            ]
          },
          "metadata": {
            "tags": []
          },
          "execution_count": 269
        }
      ]
    },
    {
      "cell_type": "code",
      "metadata": {
        "id": "t4jGAIsexeNT",
        "colab_type": "code",
        "colab": {},
        "outputId": "ba7ed852-3d70-4730-eea8-aa601a94bf10"
      },
      "source": [
        "string.isidentifier()"
      ],
      "execution_count": 0,
      "outputs": [
        {
          "output_type": "execute_result",
          "data": {
            "text/plain": [
              "False"
            ]
          },
          "metadata": {
            "tags": []
          },
          "execution_count": 270
        }
      ]
    },
    {
      "cell_type": "code",
      "metadata": {
        "id": "uEPiHrc8xeNY",
        "colab_type": "code",
        "colab": {},
        "outputId": "1f7d8c78-c162-451d-91fc-2c99a129e95e"
      },
      "source": [
        "string.islower()"
      ],
      "execution_count": 0,
      "outputs": [
        {
          "output_type": "execute_result",
          "data": {
            "text/plain": [
              "True"
            ]
          },
          "metadata": {
            "tags": []
          },
          "execution_count": 271
        }
      ]
    },
    {
      "cell_type": "code",
      "metadata": {
        "id": "sxPLWDcMxeNa",
        "colab_type": "code",
        "colab": {},
        "outputId": "12a35276-de96-42af-a7c3-e069df15c245"
      },
      "source": [
        "string.isprintable()"
      ],
      "execution_count": 0,
      "outputs": [
        {
          "output_type": "execute_result",
          "data": {
            "text/plain": [
              "True"
            ]
          },
          "metadata": {
            "tags": []
          },
          "execution_count": 272
        }
      ]
    },
    {
      "cell_type": "code",
      "metadata": {
        "id": "o69MReb3xeNc",
        "colab_type": "code",
        "colab": {},
        "outputId": "260ee756-7770-4d8b-8fe5-98310c9ca22d"
      },
      "source": [
        "string.isnumeric()"
      ],
      "execution_count": 0,
      "outputs": [
        {
          "output_type": "execute_result",
          "data": {
            "text/plain": [
              "False"
            ]
          },
          "metadata": {
            "tags": []
          },
          "execution_count": 274
        }
      ]
    },
    {
      "cell_type": "code",
      "metadata": {
        "id": "v_6kGLiDxeNg",
        "colab_type": "code",
        "colab": {},
        "outputId": "1e948efc-414a-4d36-a369-1bada0015341"
      },
      "source": [
        "string.isspace()"
      ],
      "execution_count": 0,
      "outputs": [
        {
          "output_type": "execute_result",
          "data": {
            "text/plain": [
              "False"
            ]
          },
          "metadata": {
            "tags": []
          },
          "execution_count": 275
        }
      ]
    },
    {
      "cell_type": "code",
      "metadata": {
        "scrolled": true,
        "id": "5qxtWczoxeNj",
        "colab_type": "code",
        "colab": {},
        "outputId": "4deec0fe-9930-410a-d881-370e51d5b2b2"
      },
      "source": [
        "string.isupper()"
      ],
      "execution_count": 0,
      "outputs": [
        {
          "output_type": "execute_result",
          "data": {
            "text/plain": [
              "False"
            ]
          },
          "metadata": {
            "tags": []
          },
          "execution_count": 276
        }
      ]
    },
    {
      "cell_type": "code",
      "metadata": {
        "id": "G6SNUSsTxeNl",
        "colab_type": "code",
        "colab": {}
      },
      "source": [
        "string= \"lets upgrade is doing good job\"\n",
        "string1=\"All shd follow\""
      ],
      "execution_count": 0,
      "outputs": []
    },
    {
      "cell_type": "code",
      "metadata": {
        "id": "ABZuGvwvxeNn",
        "colab_type": "code",
        "colab": {}
      },
      "source": [
        "ns=string.join(string1)"
      ],
      "execution_count": 0,
      "outputs": []
    },
    {
      "cell_type": "code",
      "metadata": {
        "id": "0K5e9w_cxeNp",
        "colab_type": "code",
        "colab": {},
        "outputId": "4982da06-5846-4096-b92d-53c761807f75"
      },
      "source": [
        "ns"
      ],
      "execution_count": 0,
      "outputs": [
        {
          "output_type": "execute_result",
          "data": {
            "text/plain": [
              "'Alets upgrade is doing good jobllets upgrade is doing good jobllets upgrade is doing good job lets upgrade is doing good jobslets upgrade is doing good jobhlets upgrade is doing good jobdlets upgrade is doing good job lets upgrade is doing good jobflets upgrade is doing good jobolets upgrade is doing good jobllets upgrade is doing good jobllets upgrade is doing good jobolets upgrade is doing good jobw'"
            ]
          },
          "metadata": {
            "tags": []
          },
          "execution_count": 286
        }
      ]
    },
    {
      "cell_type": "code",
      "metadata": {
        "id": "LVdXCWtrxeNt",
        "colab_type": "code",
        "colab": {}
      },
      "source": [
        "string= \"lets upgrade is doing good job\"\n",
        "string1=\"All shd follow\""
      ],
      "execution_count": 0,
      "outputs": []
    },
    {
      "cell_type": "code",
      "metadata": {
        "scrolled": true,
        "id": "YJUElJ2mxeNv",
        "colab_type": "code",
        "colab": {},
        "outputId": "87369b67-cc5e-496c-f497-b184ee864272"
      },
      "source": [
        "string.partition(string1)"
      ],
      "execution_count": 0,
      "outputs": [
        {
          "output_type": "execute_result",
          "data": {
            "text/plain": [
              "('lets upgrade is doing good job', '', '')"
            ]
          },
          "metadata": {
            "tags": []
          },
          "execution_count": 291
        }
      ]
    },
    {
      "cell_type": "code",
      "metadata": {
        "id": "Wz_Q-HB4xeNx",
        "colab_type": "code",
        "colab": {}
      },
      "source": [
        "string= \"lets upgrade is doing good job\"\n",
        "string1=\"All shd follow\""
      ],
      "execution_count": 0,
      "outputs": []
    },
    {
      "cell_type": "code",
      "metadata": {
        "id": "QTTzmhCUxeNz",
        "colab_type": "code",
        "colab": {},
        "outputId": "ead38d8c-1c1d-4e37-a681-eecd97334c46"
      },
      "source": [
        "string.rsplit(string1)"
      ],
      "execution_count": 0,
      "outputs": [
        {
          "output_type": "execute_result",
          "data": {
            "text/plain": [
              "['lets upgrade is doing good job']"
            ]
          },
          "metadata": {
            "tags": []
          },
          "execution_count": 295
        }
      ]
    },
    {
      "cell_type": "code",
      "metadata": {
        "id": "6YuLJDf7xeN2",
        "colab_type": "code",
        "colab": {}
      },
      "source": [
        "string= \"lets upgrade is doing good job\"\n",
        "string1=\"All shd follow\""
      ],
      "execution_count": 0,
      "outputs": []
    },
    {
      "cell_type": "code",
      "metadata": {
        "id": "3yBBrCV0xeN4",
        "colab_type": "code",
        "colab": {},
        "outputId": "404a2711-7374-4a8c-c43c-e868a005c9cb"
      },
      "source": [
        "string.swapcase()"
      ],
      "execution_count": 0,
      "outputs": [
        {
          "output_type": "execute_result",
          "data": {
            "text/plain": [
              "'LETS UPGRADE IS DOING GOOD JOB'"
            ]
          },
          "metadata": {
            "tags": []
          },
          "execution_count": 297
        }
      ]
    },
    {
      "cell_type": "code",
      "metadata": {
        "id": "3Bud8e43xeN7",
        "colab_type": "code",
        "colab": {},
        "outputId": "dcd6ad2b-a9c1-4c25-9644-1474d1d1b28b"
      },
      "source": [
        "string.title()"
      ],
      "execution_count": 0,
      "outputs": [
        {
          "output_type": "execute_result",
          "data": {
            "text/plain": [
              "'Lets Upgrade Is Doing Good Job'"
            ]
          },
          "metadata": {
            "tags": []
          },
          "execution_count": 298
        }
      ]
    },
    {
      "cell_type": "code",
      "metadata": {
        "id": "yssS6MixxeOA",
        "colab_type": "code",
        "colab": {},
        "outputId": "b3f97dc7-e972-43aa-c8dc-6dd1f2a9f9ee"
      },
      "source": [
        "string.strip()"
      ],
      "execution_count": 0,
      "outputs": [
        {
          "output_type": "execute_result",
          "data": {
            "text/plain": [
              "'lets upgrade is doing good job'"
            ]
          },
          "metadata": {
            "tags": []
          },
          "execution_count": 299
        }
      ]
    },
    {
      "cell_type": "code",
      "metadata": {
        "id": "FVoxPDjCxeOD",
        "colab_type": "code",
        "colab": {},
        "outputId": "00b75a02-f7a9-4db4-fb3f-7195a1ca7989"
      },
      "source": [
        "string.startswith(\"g\")"
      ],
      "execution_count": 0,
      "outputs": [
        {
          "output_type": "execute_result",
          "data": {
            "text/plain": [
              "False"
            ]
          },
          "metadata": {
            "tags": []
          },
          "execution_count": 302
        }
      ]
    },
    {
      "cell_type": "code",
      "metadata": {
        "id": "Fw_29gXpxeOF",
        "colab_type": "code",
        "colab": {},
        "outputId": "be80765f-b2ad-42ad-f22a-9a8dfc6f3493"
      },
      "source": [
        "string.rpartition(string1)"
      ],
      "execution_count": 0,
      "outputs": [
        {
          "output_type": "execute_result",
          "data": {
            "text/plain": [
              "('', '', 'lets upgrade is doing good job')"
            ]
          },
          "metadata": {
            "tags": []
          },
          "execution_count": 304
        }
      ]
    },
    {
      "cell_type": "code",
      "metadata": {
        "id": "Qt8SQxNXxeOI",
        "colab_type": "code",
        "colab": {},
        "outputId": "10bb41ee-3a31-48fb-eb78-8516598aef3e"
      },
      "source": [
        "string.rjust(0)"
      ],
      "execution_count": 0,
      "outputs": [
        {
          "output_type": "execute_result",
          "data": {
            "text/plain": [
              "'lets upgrade is doing good job'"
            ]
          },
          "metadata": {
            "tags": []
          },
          "execution_count": 311
        }
      ]
    },
    {
      "cell_type": "code",
      "metadata": {
        "id": "UtmOnADbxeOO",
        "colab_type": "code",
        "colab": {},
        "outputId": "9d5152cf-e648-46c9-d394-0c400e3109ad"
      },
      "source": [
        "string.rfind(string1)"
      ],
      "execution_count": 0,
      "outputs": [
        {
          "output_type": "execute_result",
          "data": {
            "text/plain": [
              "-1"
            ]
          },
          "metadata": {
            "tags": []
          },
          "execution_count": 313
        }
      ]
    },
    {
      "cell_type": "markdown",
      "metadata": {
        "id": "L6wBmQCKxeOQ",
        "colab_type": "text"
      },
      "source": [
        "# The end"
      ]
    }
  ]
}